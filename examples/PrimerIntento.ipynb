{
 "cells": [
  {
   "cell_type": "code",
   "execution_count": 1,
   "metadata": {},
   "outputs": [],
   "source": [
    "%load_ext autoreload\n",
    "%autoreload 2"
   ]
  },
  {
   "cell_type": "code",
   "execution_count": 2,
   "metadata": {},
   "outputs": [],
   "source": [
    "import molinterrogator as mi"
   ]
  },
  {
   "cell_type": "code",
   "execution_count": 3,
   "metadata": {},
   "outputs": [
    {
     "name": "stdout",
     "output_type": "stream",
     "text": [
      "UniProt with 134 targets matching the query. (See xxx to                     refine the result)\n"
     ]
    }
   ],
   "source": [
    "target = mi.target('EBNA1')"
   ]
  },
  {
   "cell_type": "code",
   "execution_count": 6,
   "metadata": {},
   "outputs": [
    {
     "data": {
      "text/html": [
       "<div>\n",
       "<style scoped>\n",
       "    .dataframe tbody tr th:only-of-type {\n",
       "        vertical-align: middle;\n",
       "    }\n",
       "\n",
       "    .dataframe tbody tr th {\n",
       "        vertical-align: top;\n",
       "    }\n",
       "\n",
       "    .dataframe thead th {\n",
       "        text-align: right;\n",
       "    }\n",
       "</style>\n",
       "<table border=\"1\" class=\"dataframe\">\n",
       "  <thead>\n",
       "    <tr style=\"text-align: right;\">\n",
       "      <th></th>\n",
       "      <th>Name</th>\n",
       "      <th>Full Name</th>\n",
       "      <th>Short Name</th>\n",
       "      <th>Alternative Name</th>\n",
       "      <th>Type</th>\n",
       "      <th>Organism</th>\n",
       "      <th>Host</th>\n",
       "      <th>Function</th>\n",
       "      <th>ChEMBL</th>\n",
       "      <th>UniProt</th>\n",
       "      <th>...</th>\n",
       "      <th>Swiss-Model</th>\n",
       "      <th>DIP</th>\n",
       "      <th>ELM</th>\n",
       "      <th>MINT</th>\n",
       "      <th>PDB</th>\n",
       "      <th>InterPro</th>\n",
       "      <th>Pfam</th>\n",
       "      <th>ProDom</th>\n",
       "      <th>SUPFAM</th>\n",
       "      <th>Mutagenesis</th>\n",
       "    </tr>\n",
       "  </thead>\n",
       "  <tbody>\n",
       "    <tr>\n",
       "      <th>0</th>\n",
       "      <td>EBNA1_EBVB9</td>\n",
       "      <td>Epstein-Barr nuclear antigen 1</td>\n",
       "      <td>[EBNA-1, EBV nuclear antigen 1]</td>\n",
       "      <td>NaN</td>\n",
       "      <td>Protein</td>\n",
       "      <td>Epstein-Barr virus (strain B95-8)</td>\n",
       "      <td>Homo sapiens</td>\n",
       "      <td>Plays an essential role in replication and par...</td>\n",
       "      <td>CHEMBL1293281</td>\n",
       "      <td>[P03211, Q777E1]</td>\n",
       "      <td>...</td>\n",
       "      <td>P03211</td>\n",
       "      <td>DIP-29054N</td>\n",
       "      <td>P03211</td>\n",
       "      <td>P03211</td>\n",
       "      <td>[1B3T, 1VHI, 1YY6, 2FYY, 2FZ3, 3MV7, 3MV8, 3MV...</td>\n",
       "      <td>P03211</td>\n",
       "      <td>PF02905</td>\n",
       "      <td>PD037044</td>\n",
       "      <td>SSF54957</td>\n",
       "      <td>NaN</td>\n",
       "    </tr>\n",
       "  </tbody>\n",
       "</table>\n",
       "<p>1 rows × 24 columns</p>\n",
       "</div>"
      ],
      "text/plain": [
       "          Name                       Full Name  \\\n",
       "0  EBNA1_EBVB9  Epstein-Barr nuclear antigen 1   \n",
       "\n",
       "                        Short Name Alternative Name     Type  \\\n",
       "0  [EBNA-1, EBV nuclear antigen 1]              NaN  Protein   \n",
       "\n",
       "                            Organism          Host  \\\n",
       "0  Epstein-Barr virus (strain B95-8)  Homo sapiens   \n",
       "\n",
       "                                            Function         ChEMBL  \\\n",
       "0  Plays an essential role in replication and par...  CHEMBL1293281   \n",
       "\n",
       "            UniProt     ...     Swiss-Model         DIP     ELM    MINT  \\\n",
       "0  [P03211, Q777E1]     ...          P03211  DIP-29054N  P03211  P03211   \n",
       "\n",
       "                                                 PDB InterPro     Pfam  \\\n",
       "0  [1B3T, 1VHI, 1YY6, 2FYY, 2FZ3, 3MV7, 3MV8, 3MV...   P03211  PF02905   \n",
       "\n",
       "     ProDom    SUPFAM Mutagenesis  \n",
       "0  PD037044  SSF54957         NaN  \n",
       "\n",
       "[1 rows x 24 columns]"
      ]
     },
     "execution_count": 6,
     "metadata": {},
     "output_type": "execute_result"
    }
   ],
   "source": [
    "target._uniprot.card"
   ]
  },
  {
   "cell_type": "code",
   "execution_count": null,
   "metadata": {},
   "outputs": [],
   "source": [
    "print(target._chembl.card['UniProt'])\n",
    "print(target._uniprot.card['UniProt'])"
   ]
  },
  {
   "cell_type": "code",
   "execution_count": null,
   "metadata": {},
   "outputs": [],
   "source": [
    "print(target._chembl.card['ChEMBL'])\n",
    "print(target._uniprot.card['ChEMBL'])"
   ]
  },
  {
   "cell_type": "code",
   "execution_count": null,
   "metadata": {},
   "outputs": [],
   "source": [
    "print(target._chembl.card['BindingDB'])\n",
    "print(target._uniprot.card['BindingDB'])"
   ]
  },
  {
   "cell_type": "code",
   "execution_count": null,
   "metadata": {},
   "outputs": [],
   "source": [
    "bindingdb_ids=[target._chembl.card['BindingDB'].tolist(),target._uniprot.card['BindingDB'].tolist()]"
   ]
  },
  {
   "cell_type": "code",
   "execution_count": null,
   "metadata": {},
   "outputs": [],
   "source": [
    "aa=[]\n",
    "for ii in bindingdb_ids:\n",
    "    if type(ii)==list:\n",
    "        for jj in ii:\n",
    "            if type(jj)==list:\n",
    "                for kk in jj:\n",
    "                    aa.append(kk)\n",
    "            else:\n",
    "                aa.append(jj)\n",
    "    else:\n",
    "        aa.append(ii)"
   ]
  },
  {
   "cell_type": "code",
   "execution_count": null,
   "metadata": {},
   "outputs": [],
   "source": [
    "list(set(aa))"
   ]
  },
  {
   "cell_type": "code",
   "execution_count": null,
   "metadata": {},
   "outputs": [],
   "source": []
  }
 ],
 "metadata": {
  "kernelspec": {
   "display_name": "Python 3",
   "language": "python",
   "name": "python3"
  },
  "language_info": {
   "codemirror_mode": {
    "name": "ipython",
    "version": 3
   },
   "file_extension": ".py",
   "mimetype": "text/x-python",
   "name": "python",
   "nbconvert_exporter": "python",
   "pygments_lexer": "ipython3",
   "version": "3.5.5"
  }
 },
 "nbformat": 4,
 "nbformat_minor": 2
}
